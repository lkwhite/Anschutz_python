{
 "cells": [
  {
   "cell_type": "markdown",
   "metadata": {},
   "source": [
    "# Lesson 5\n",
    "\n",
    "## Topics:\n",
    "\n",
    " - Numpy\n",
    " - Pandas\n",
    "\n",
    "Why Numpy (and Scipy)?\n",
    "\n",
    "#### We are scientists doing computing. So we need 'scientific computing'! Numpy and Scipy make python the elite programming language for scientists.\n",
    "\n",
    "Think of Numpy and Scipy as superpowers - they enable us to do computations that are too onerous to code every time and/or out of reach of the data structures we have studied till date. We will just learn the basics today, just enough for you to explore further on your own.\n",
    "\n",
    "We will not cover Scipy, but I highly recommend trying on your own if your projects require high-level computing: http://scipy-lectures.org/intro/scipy.html \n",
    "\n",
    "### Numpy\n",
    "\n",
    "The basic component of numpy is the ndarray or the n dimensional array. All elements of the array are the same type and the dimensions of the array are called axes. For example, a 3D coordinate of an atom that we talked about previously: [1.123, 2.3232, 4.232] can be a numpy array with one axis.\n"
   ]
  },
  {
   "cell_type": "code",
   "execution_count": null,
   "metadata": {
    "collapsed": true
   },
   "outputs": [],
   "source": [
    "import numpy as np"
   ]
  },
  {
   "cell_type": "code",
   "execution_count": null,
   "metadata": {
    "collapsed": false
   },
   "outputs": [],
   "source": [
    "alist = [1,2,3,4,5,6,7,8,9]\n",
    "alist = [(1,2,3),(4,5,6),(7,8,9)]\n",
    "a_ndarray = np.array(alist)\n",
    "print(a_ndarray)\n",
    "#ndim prints the number of dimensions of the array\n",
    "print(\"Number of axes: \",a_ndarray.ndim)\n",
    "#shape prints dimensions of the array\n",
    "print(\"Dimensions of the array are:\",a_ndarray.shape)"
   ]
  },
  {
   "cell_type": "code",
   "execution_count": null,
   "metadata": {
    "collapsed": false
   },
   "outputs": [],
   "source": [
    "#reshape returns an ndarray of specified \"shape\"\n",
    "alist = ['a',2,3,4,5,6,7,8,9]\n",
    "a_ndarray = np.array(alist)\n",
    "a_matrix = a_ndarray.reshape(3,3)\n",
    "print(a_matrix)\n",
    "#What type of items are in the array?\n",
    "print(a_matrix.dtype)"
   ]
  },
  {
   "cell_type": "code",
   "execution_count": null,
   "metadata": {
    "collapsed": false
   },
   "outputs": [],
   "source": [
    "#The itemtypes are really important for ndarray - item types cannot mix unlike dictionary or list.\n",
    "#So you can specify item type just to be careful:\n",
    "\n",
    "c = np.array( [ [1,2], [3,4] ], dtype=float )\n",
    "c"
   ]
  },
  {
   "cell_type": "code",
   "execution_count": null,
   "metadata": {
    "collapsed": false
   },
   "outputs": [],
   "source": [
    "#to create a range, the function used is arange:\n",
    "a = np.arange( 0, 21, 5 )\n",
    "a"
   ]
  },
  {
   "cell_type": "code",
   "execution_count": 27,
   "metadata": {
    "collapsed": false
   },
   "outputs": [
    {
     "data": {
      "text/plain": [
       "array([  0.00000000e+00,   6.42787610e-01,   9.84807753e-01,\n",
       "         8.66025404e-01,   3.42020143e-01,  -3.42020143e-01,\n",
       "        -8.66025404e-01,  -9.84807753e-01,  -6.42787610e-01,\n",
       "        -2.44929360e-16])"
      ]
     },
     "execution_count": 27,
     "metadata": {},
     "output_type": "execute_result"
    }
   ],
   "source": [
    "from numpy import pi\n",
    "x = np.linspace( 0, 2*pi, 10 )   # useful to evaluate function at lots of points\n",
    "f = np.sin(x)\n",
    "f"
   ]
  },
  {
   "cell_type": "markdown",
   "metadata": {},
   "source": [
    "Let us revisit plotting : I googled, and found this page: https://matplotlib.org/gallery/lines_bars_and_markers/simple_plot.html"
   ]
  },
  {
   "cell_type": "code",
   "execution_count": 28,
   "metadata": {
    "collapsed": false
   },
   "outputs": [
    {
     "data": {
      "image/png": "[encoded data removed]",
      "text/plain": [
       "<matplotlib.figure.Figure at 0x117995c88>"
      ]
     },
     "metadata": {},
     "output_type": "display_data"
    }
   ],
   "source": [
    "import matplotlib\n",
    "import matplotlib.pyplot as plt\n",
    "\n",
    "fig, ax = plt.subplots()\n",
    "\n",
    "ax.plot(x, f, color='black',label=\"sin(x)\")\n",
    "#ax.plot(x*360/(2*pi), f, color='black',label=\"sin(x)\")\n",
    "\n",
    "ax.set(xlabel='Angle', ylabel='Read Density')\n",
    "\n",
    "plt.legend()\n",
    "\n",
    "plt.show()"
   ]
  },
  {
   "cell_type": "code",
   "execution_count": 29,
   "metadata": {
    "collapsed": false
   },
   "outputs": [
    {
     "name": "stdout",
     "output_type": "stream",
     "text": [
      "[1 2 3 4]\n",
      "[5 6 7 8]\n",
      "[ 6  8 10 12]\n",
      "[-4 -4 -4 -4]\n",
      "[ 5 12 21 32]\n"
     ]
    }
   ],
   "source": [
    "#Operations!\n",
    "#All operations in numpy arrays occur elementwise\n",
    "\n",
    "A = np.array([1,2,3,4])\n",
    "B = np.array([5,6,7,8])\n",
    "\n",
    "print(A)\n",
    "print(B)\n",
    "\n",
    "print(A+B)\n",
    "print(A-B)\n",
    "print(A*B)"
   ]
  },
  {
   "cell_type": "code",
   "execution_count": 30,
   "metadata": {
    "collapsed": false
   },
   "outputs": [
    {
     "name": "stdout",
     "output_type": "stream",
     "text": [
      "[[1 2]\n",
      " [3 4]]\n",
      "[[5 6]\n",
      " [7 8]]\n",
      "[[ 6  8]\n",
      " [10 12]]\n",
      "[[-4 -4]\n",
      " [-4 -4]]\n",
      "[[ 5 12]\n",
      " [21 32]]\n"
     ]
    }
   ],
   "source": [
    "#Operations!\n",
    "#All operations in numpy arrays occur elementwise\n",
    "\n",
    "A = np.array([1,2,3,4]).reshape(2,2)\n",
    "B = np.array([5,6,7,8]).reshape(2,2)\n",
    "\n",
    "print(A)\n",
    "print(B)\n",
    "\n",
    "print(A+B)\n",
    "print(A-B)\n",
    "print(A*B)"
   ]
  },
  {
   "cell_type": "markdown",
   "metadata": {},
   "source": [
    "The biggest advantage of numpy arrays are matrix operations! \"@\" is used for matrix multiplication. Here is an example (multiplying a 1x4 matrix with a 4x1 matrix gives a 1,1 matrix):<br>\n",
    "`\n",
    "[1 2 3 4] . |1|  = [30]\n",
    "            |2|  \n",
    "            |3|  \n",
    "            |4|  \n",
    "            `\n",
    " <br>m x n matrix can be multiplied by n x l matrix to give m x l matrix"
   ]
  },
  {
   "cell_type": "code",
   "execution_count": 31,
   "metadata": {
    "collapsed": false
   },
   "outputs": [
    {
     "name": "stdout",
     "output_type": "stream",
     "text": [
      "[1 2 3 4]\n",
      "[[1]\n",
      " [2]\n",
      " [3]\n",
      " [4]]\n",
      "[30]\n"
     ]
    }
   ],
   "source": [
    "A = np.array(np.arange(1,5))\n",
    "B = np.array(np.arange(1,5)).reshape(4,1)\n",
    "print(A)\n",
    "print(B)\n",
    "print(A@B)"
   ]
  },
  {
   "cell_type": "code",
   "execution_count": 33,
   "metadata": {
    "collapsed": false
   },
   "outputs": [
    {
     "name": "stdout",
     "output_type": "stream",
     "text": [
      "[[ 1  2  3  4  5]\n",
      " [ 6  7  8  9 10]]\n",
      "[[ 1  2  3  4]\n",
      " [ 5  6  7  8]\n",
      " [ 9 10 11 12]\n",
      " [13 14 15 16]\n",
      " [17 18 19 20]]\n",
      "(2, 5) (5, 4) (2, 4)\n"
     ]
    }
   ],
   "source": [
    "A = np.array(np.arange(1,11)).reshape(2,5)\n",
    "B = np.array(np.arange(1,21)).reshape(5,4)\n",
    "print(A)\n",
    "print(B)\n",
    "C = A@B\n",
    "print(A.shape,B.shape,C.shape)"
   ]
  },
  {
   "cell_type": "code",
   "execution_count": 34,
   "metadata": {
    "collapsed": false
   },
   "outputs": [
    {
     "data": {
      "text/plain": [
       "array([[-0.33333333,  0.66666667],\n",
       "       [ 0.66666667, -0.33333333]])"
      ]
     },
     "execution_count": 34,
     "metadata": {},
     "output_type": "execute_result"
    }
   ],
   "source": [
    "#To calculate inverse of a matrix\n",
    "from numpy.linalg import inv\n",
    "A = [[1,2],[2,1]]\n",
    "inv_A = inv(A)\n",
    "inv_A"
   ]
  },
  {
   "cell_type": "code",
   "execution_count": 35,
   "metadata": {
    "collapsed": false
   },
   "outputs": [
    {
     "data": {
      "text/plain": [
       "array([[ 1.,  0.],\n",
       "       [ 0.,  1.]])"
      ]
     },
     "execution_count": 35,
     "metadata": {},
     "output_type": "execute_result"
    }
   ],
   "source": [
    "#Did the inverse work?\n",
    "inv_A@A"
   ]
  },
  {
   "cell_type": "markdown",
   "metadata": {},
   "source": [
    "Let us get back to one dimensional arrays and look at some powerful operations numpy permits. First is random number generation. (https://docs.scipy.org/doc/numpy-1.15.1/reference/routines.random.html)\n"
   ]
  },
  {
   "cell_type": "code",
   "execution_count": 41,
   "metadata": {
    "collapsed": false
   },
   "outputs": [],
   "source": [
    "a_random_array = np.random.rand(100)*5\n",
    "#a_random_array\n",
    "\n",
    "#what if I want random sampling from a Gaussian distribution?\n",
    "\n",
    "mean = 10 #mean of the distribution\n",
    "sd  = 2 #standard deviation of the distribution\n",
    "\n",
    "a_random_array = np.random.normal(mean,sd,10000)\n",
    "#a_random_array"
   ]
  },
  {
   "cell_type": "code",
   "execution_count": 42,
   "metadata": {
    "collapsed": false
   },
   "outputs": [
    {
     "data": {
      "image/png": "[encoded data removed]",
      "text/plain": [
       "<matplotlib.figure.Figure at 0x11795c5c0>"
      ]
     },
     "metadata": {},
     "output_type": "display_data"
    }
   ],
   "source": [
    "#did it really work?? Let us make a histogram to check\n",
    "\n",
    "plt.hist(a_random_array, bins=60) #plt.hist automatically makes a histogram\n",
    "plt.show()"
   ]
  },
  {
   "cell_type": "markdown",
   "metadata": {},
   "source": [
    "### If you are nostalgic for R...\n",
    "\n",
    "You don't have to go out of jupyter!\n",
    "\n",
    " - pandas - R-like dataframes in python"
   ]
  },
  {
   "cell_type": "code",
   "execution_count": 43,
   "metadata": {
    "collapsed": true
   },
   "outputs": [],
   "source": [
    "import pandas as pd"
   ]
  },
  {
   "cell_type": "markdown",
   "metadata": {},
   "source": [
    "Pandas works on dataframe. Similar to ndarray in numpy, you can convert your familiar datastructures into a dataframe."
   ]
  },
  {
   "cell_type": "code",
   "execution_count": 45,
   "metadata": {
    "collapsed": false
   },
   "outputs": [
    {
     "name": "stdout",
     "output_type": "stream",
     "text": [
      "{'floor': 9, 'name': 'Srinivas', 'fav_things': ['uracil', '2primehydroxyls', 'polyAtails']}\n"
     ]
    },
    {
     "data": {
      "text/html": [
       "<div>\n",
       "<table border=\"1\" class=\"dataframe\">\n",
       "  <thead>\n",
       "    <tr style=\"text-align: right;\">\n",
       "      <th></th>\n",
       "      <th>fav_things</th>\n",
       "      <th>floor</th>\n",
       "      <th>name</th>\n",
       "    </tr>\n",
       "  </thead>\n",
       "  <tbody>\n",
       "    <tr>\n",
       "      <th>0</th>\n",
       "      <td>uracil</td>\n",
       "      <td>9</td>\n",
       "      <td>Srinivas</td>\n",
       "    </tr>\n",
       "    <tr>\n",
       "      <th>1</th>\n",
       "      <td>2primehydroxyls</td>\n",
       "      <td>9</td>\n",
       "      <td>Srinivas</td>\n",
       "    </tr>\n",
       "    <tr>\n",
       "      <th>2</th>\n",
       "      <td>polyAtails</td>\n",
       "      <td>9</td>\n",
       "      <td>Srinivas</td>\n",
       "    </tr>\n",
       "  </tbody>\n",
       "</table>\n",
       "</div>"
      ],
      "text/plain": [
       "        fav_things  floor      name\n",
       "0           uracil      9  Srinivas\n",
       "1  2primehydroxyls      9  Srinivas\n",
       "2       polyAtails      9  Srinivas"
      ]
     },
     "execution_count": 45,
     "metadata": {},
     "output_type": "execute_result"
    }
   ],
   "source": [
    "instructor = {'name' : 'Srinivas', 'floor' : 9, 'fav_things' : ['uracil', '2primehydroxyls', 'polyAtails']}\n",
    "print(instructor)\n",
    "pd.DataFrame(instructor)"
   ]
  },
  {
   "cell_type": "markdown",
   "metadata": {},
   "source": [
    "But it is really powerful when you can read data files. Let us try reading a \"csv\" file with expression values of different genes in the cell line K562:"
   ]
  },
  {
   "cell_type": "code",
   "execution_count": 46,
   "metadata": {
    "collapsed": false
   },
   "outputs": [
    {
     "data": {
      "text/html": [
       "<div>\n",
       "<table border=\"1\" class=\"dataframe\">\n",
       "  <thead>\n",
       "    <tr style=\"text-align: right;\">\n",
       "      <th></th>\n",
       "      <th>0</th>\n",
       "      <th>1</th>\n",
       "      <th>2</th>\n",
       "      <th>3</th>\n",
       "      <th>4</th>\n",
       "      <th>5</th>\n",
       "    </tr>\n",
       "  </thead>\n",
       "  <tbody>\n",
       "    <tr>\n",
       "      <th>0</th>\n",
       "      <td>ENSG00000000003</td>\n",
       "      <td>TSPAN6</td>\n",
       "      <td>K-562</td>\n",
       "      <td>0.0</td>\n",
       "      <td>FPKM</td>\n",
       "      <td>Not detected</td>\n",
       "    </tr>\n",
       "    <tr>\n",
       "      <th>1</th>\n",
       "      <td>ENSG00000000005</td>\n",
       "      <td>TNMD</td>\n",
       "      <td>K-562</td>\n",
       "      <td>0.0</td>\n",
       "      <td>FPKM</td>\n",
       "      <td>Not detected</td>\n",
       "    </tr>\n",
       "    <tr>\n",
       "      <th>2</th>\n",
       "      <td>ENSG00000000419</td>\n",
       "      <td>DPM1</td>\n",
       "      <td>K-562</td>\n",
       "      <td>78.7</td>\n",
       "      <td>FPKM</td>\n",
       "      <td>High</td>\n",
       "    </tr>\n",
       "    <tr>\n",
       "      <th>3</th>\n",
       "      <td>ENSG00000000457</td>\n",
       "      <td>SCYL3</td>\n",
       "      <td>K-562</td>\n",
       "      <td>5.4</td>\n",
       "      <td>FPKM</td>\n",
       "      <td>Low</td>\n",
       "    </tr>\n",
       "    <tr>\n",
       "      <th>4</th>\n",
       "      <td>ENSG00000000460</td>\n",
       "      <td>C1orf112</td>\n",
       "      <td>K-562</td>\n",
       "      <td>17.0</td>\n",
       "      <td>FPKM</td>\n",
       "      <td>Low</td>\n",
       "    </tr>\n",
       "  </tbody>\n",
       "</table>\n",
       "</div>"
      ],
      "text/plain": [
       "                 0         1      2     3     4             5\n",
       "0  ENSG00000000003    TSPAN6  K-562   0.0  FPKM  Not detected\n",
       "1  ENSG00000000005      TNMD  K-562   0.0  FPKM  Not detected\n",
       "2  ENSG00000000419      DPM1  K-562  78.7  FPKM          High\n",
       "3  ENSG00000000457     SCYL3  K-562   5.4  FPKM           Low\n",
       "4  ENSG00000000460  C1orf112  K-562  17.0  FPKM           Low"
      ]
     },
     "execution_count": 46,
     "metadata": {},
     "output_type": "execute_result"
    }
   ],
   "source": [
    "df_k562 = pd.read_csv(\"k562.csv\",header=None,sep=',')\n",
    "df_k562.head()"
   ]
  },
  {
   "cell_type": "markdown",
   "metadata": {},
   "source": [
    "# Manipulating data frames\n",
    "\n",
    "Tabular data is quite common in genomic analyses.  You can imagine wanting to create and manipulate a table like the following:\n",
    "\n",
    "| Gene | expression in condition 1 | expression in condition 2 | log2 fold change | pvalue |\n",
    "|------|---------------------------|---------------------------|------------------|--------|\n",
    "|GeneA |       100                 | 200                       |        1         |   6e-5 |\n",
    "|GeneB |    50                     | 12.5                      |        -2        |  2e-6  |\n",
    "|GeneC |       40                  |   45                      |   0.17           | 0.55   |\n",
    "\n",
    "\n",
    "Ending up with a table like this often involves **merging** smaller tables together, **selecting** different columns of data from a data frame, **filtering** for rows that match specific conditions, manipulating the **shape** of the table between long and wide formats, and finally, plotting outputs.\n",
    "\n",
    "In this lesson, we will learn how to perform each of these tasks.  "
   ]
  },
  {
   "cell_type": "markdown",
   "metadata": {},
   "source": [
    "## Selecting columns and rows\n",
    "\n",
    "For most of this session, we are going to be working with variations of the following data frame:\n",
    "\n",
    "This dataframe will be referred to as 'df' and be assigned to the variable df.  Very original, I know.\n",
    "\n",
    "| Gene | expression in condition 1 | expression in condition 2 | log2 fold change | pvalue |\n",
    "|------|---------------------------|---------------------------|------------------|--------|\n",
    "|GeneA |       100                 | 200                       |        1         |   6e-5 |\n",
    "|GeneB |    50                     | 12.5                      |        -2        |  2e-6  |\n",
    "|GeneC |       40                  |   45                      |   0.17           | 0.55   |\n",
    "|GeneD |       20                  |   20                      |   0.00           | 1.00   |\n",
    "|GeneE |        1                  |   4                       |   2.00           | 0.15   |\n",
    "|GeneF |       1000                |   800                     |   -0.32          | 0.001  |\n",
    "\n",
    "Let's suppose that we wanted to make a new dataframe that consisted of only some of the columns or rows of df.  In essenece, we want to select a subset of columns and rows from df.  This is done with the **.loc** and **.iloc** methods."
   ]
  },
  {
   "cell_type": "markdown",
   "metadata": {},
   "source": [
    "## Selecting columns and rows with .iloc\n",
    "\n",
    "Selecting columns and rows from a dataframe by their position is easily done with the **.iloc** method.  The syntax is:\n",
    "\n",
    "    subsetdf = df.iloc[firstrowdesired:lastrowdesired, firstcolumndesired:lastcolumndesired]\n",
    "    \n",
    "For example, let's say I wanted only the first two rows of df, but every column. Remember back to when we were slicing lists (see module 2).  We could slice a list by giving the indexes of the first and last items we wanted.\n",
    "\n",
    "    somefruits = fruits[2:4]\n",
    "    \n",
    "The idea is the same here. The index values (i.e. rownames) of the desired rows are given first, followed by the names of the desired columns.  Just as when slicing lists, leaving the value on one side of the colon blank is shorthand for asking for everything from either the beginning or end.\n",
    "\n",
    "    #give me all fruits from the fourth one to the end\n",
    "    somefruits = fruits[3:]\n",
    "    #give me all fruits from the beginning until the fourth one\n",
    "    somefruits = fruits[:4]\n",
    "    \n",
    "Leaving the value blank on *both* sides of the colon gives you everything from *both* ends.  Or, in other words, the entire list (or here, all rows or all columns).\n",
    "\n",
    "> <font color = 'red'>Slightly confusing note 1: </font>  Remember, when selecting from or slicing iterables, python uses a 0-based, half-open indexing system.  This means that if you want the first 3 items, you ask for items[0:3]. You are given everything *up to but not including* the fourth item (i.e. indicies 0, 1, and 2).  iloc follows this convention.\n",
    "\n",
    "> <font color = 'red'>Slightly confusing note 2: </font> Asking for a single index using .iloc instead of a slice will give you a series instead of a dataframe.  This is essentially a list (or a numpy array), but we aren't going to talk much about this.  For selecting things within dataframes, just slice.\n",
    "\n",
    "> <font color = 'red'>Slightly confusing note 3:  </font> Pandas dataframes have things called \"indexes\" which are essentially row names.  These can be set explicitly.  However, if they are not, as in the case of df, they are simply defined as integers, beginning with 0. You can think of the indexes as just another column, but without a column name.  You can see them in the far left any time you visualize a dataframe with df.head() or any other method.\n",
    "\n",
    ".iloc operates on integer-based indexes.  This means you can ask for the third column, but not the column named 'cond2exp'.  (Conversly, with .loc, you can ask for the column name)\n",
    "\n",
    "OK, now that we've got all that down, let's ask for just the first column of df."
   ]
  },
  {
   "cell_type": "code",
   "execution_count": 47,
   "metadata": {
    "collapsed": false
   },
   "outputs": [
    {
     "name": "stdout",
     "output_type": "stream",
     "text": [
      "    Gene  cond1exp  cond2exp  log2FC    pvalue\n",
      "0  GeneA       100     200.0    1.00  0.000060\n",
      "1  GeneB        50      12.5   -2.00  0.000002\n",
      "2  GeneC        40      45.0    0.17  0.550000\n",
      "3  GeneD        20      20.0    0.00  1.000000\n",
      "4  GeneE         1       4.0    2.00  0.150000 \n",
      "\n",
      "\n",
      "\n",
      "\n",
      "    Gene\n",
      "0  GeneA\n",
      "1  GeneB\n",
      "2  GeneC\n",
      "3  GeneD\n",
      "4  GeneE\n"
     ]
    }
   ],
   "source": [
    "import pandas as pd\n",
    "\n",
    "#Defining the dataframe\n",
    "d = {'Gene': ['GeneA', 'GeneB', 'GeneC', 'GeneD', 'GeneE', 'GeneF'],\n",
    "    'cond1exp' : [100, 50, 40, 20, 1, 1000],\n",
    "    'cond2exp' : [200, 12.5, 45, 20, 4, 800],\n",
    "    'log2FC' : [1, -2, 0.17, 0.00, 2.00, -0.32],\n",
    "    'pvalue' : [6e-5, 2e-6, 0.55, 1.00, 0.15, 0.001]}\n",
    "    \n",
    "df = pd.DataFrame(data = d)\n",
    "\n",
    "#Take a quick look at it.\n",
    "print(df.head(), '\\n\\n\\n\\n') #print some blank lines so we can tell things apart\n",
    "\n",
    "#Get the first column (and every row) of df\n",
    "subsetdf = df.iloc[:, 0:1] #give me all rows and just the first column\n",
    "\n",
    "print(subsetdf.head())"
   ]
  },
  {
   "cell_type": "markdown",
   "metadata": {},
   "source": [
    "OK, great.  What about just the third row and all the columns?"
   ]
  },
  {
   "cell_type": "code",
   "execution_count": 48,
   "metadata": {
    "collapsed": false
   },
   "outputs": [
    {
     "name": "stdout",
     "output_type": "stream",
     "text": [
      "    Gene  cond1exp  cond2exp  log2FC  pvalue\n",
      "2  GeneC        40      45.0    0.17    0.55\n"
     ]
    }
   ],
   "source": [
    "subsetdf = df.iloc[2:3, :]\n",
    "print(subsetdf.head())"
   ]
  },
  {
   "cell_type": "markdown",
   "metadata": {},
   "source": [
    "## Selecting rows and columns with .loc\n",
    "\n",
    "**.loc** is essentially the same as **.iloc**, except that you can now select by column names or row names.  The same ideas with slicing and ranges apply.  If row names (indexes) have not been explicitly set for a dataframe, they are defined as integers beginning with 0, as discussed above.\n",
    "\n",
    "> <font color = 'red'>Confusing note number 4:</font> although most intervals are half-open, **for .loc, they are closed**.  df.loc[:, 'Gene':'log2FC'] will return all rows and all columns between Gene and log2FC **including log2FC**.\n",
    "\n",
    "The desired rows and/or columns are indicated by putting them in a list."
   ]
  },
  {
   "cell_type": "code",
   "execution_count": 51,
   "metadata": {
    "collapsed": false
   },
   "outputs": [
    {
     "name": "stdout",
     "output_type": "stream",
     "text": [
      "    Gene  cond1exp\n",
      "0  GeneA       100\n",
      "1  GeneB        50\n",
      "2  GeneC        40\n",
      "3  GeneD        20\n",
      "4  GeneE         1\n"
     ]
    }
   ],
   "source": [
    "#Select the expression values in condition1\n",
    "\n",
    "subsetdf = df.loc[:, 'Gene':'cond1exp']\n",
    "print(subsetdf.head())"
   ]
  },
  {
   "cell_type": "code",
   "execution_count": 53,
   "metadata": {
    "collapsed": false
   },
   "outputs": [
    {
     "name": "stdout",
     "output_type": "stream",
     "text": [
      "   cond1exp    pvalue\n",
      "0       100  0.000060\n",
      "1        50  0.000002\n",
      "2        40  0.550000\n",
      "3        20  1.000000\n",
      "4         1  0.150000\n",
      "5      1000  0.001000 \n",
      "\n",
      "\n",
      "\n",
      "\n"
     ]
    },
    {
     "ename": "AttributeError",
     "evalue": "'DataFrame' object has no attribute 'tolist'",
     "output_type": "error",
     "traceback": [
      "\u001b[0;31m---------------------------------------------------------------------------\u001b[0m",
      "\u001b[0;31mAttributeError\u001b[0m                            Traceback (most recent call last)",
      "\u001b[0;32m<ipython-input-53-6884d4589f29>\u001b[0m in \u001b[0;36m<module>\u001b[0;34m()\u001b[0m\n\u001b[1;32m      5\u001b[0m \u001b[0msubsetdf\u001b[0m \u001b[0;34m=\u001b[0m \u001b[0mdf\u001b[0m\u001b[0;34m.\u001b[0m\u001b[0mloc\u001b[0m\u001b[0;34m[\u001b[0m\u001b[0;34m:\u001b[0m\u001b[0;34m,\u001b[0m \u001b[0mlistofcols\u001b[0m\u001b[0;34m]\u001b[0m \u001b[0;31m#notice cond1exp is a string, not contained within a list\u001b[0m\u001b[0;34m\u001b[0m\u001b[0m\n\u001b[1;32m      6\u001b[0m \u001b[0mprint\u001b[0m\u001b[0;34m(\u001b[0m\u001b[0msubsetdf\u001b[0m\u001b[0;34m,\u001b[0m  \u001b[0;34m'\\n\\n\\n\\n'\u001b[0m\u001b[0;34m)\u001b[0m\u001b[0;34m\u001b[0m\u001b[0m\n\u001b[0;32m----> 7\u001b[0;31m \u001b[0msubsetdf\u001b[0m \u001b[0;34m=\u001b[0m \u001b[0msubsetdf\u001b[0m\u001b[0;34m.\u001b[0m\u001b[0mtolist\u001b[0m\u001b[0;34m(\u001b[0m\u001b[0;34m)\u001b[0m \u001b[0;31m#turn into list\u001b[0m\u001b[0;34m\u001b[0m\u001b[0m\n\u001b[0m\u001b[1;32m      8\u001b[0m \u001b[0mprint\u001b[0m\u001b[0;34m(\u001b[0m\u001b[0msubsetdf\u001b[0m\u001b[0;34m)\u001b[0m\u001b[0;34m\u001b[0m\u001b[0m\n",
      "\u001b[0;32m//anaconda/lib/python3.5/site-packages/pandas/core/generic.py\u001b[0m in \u001b[0;36m__getattr__\u001b[0;34m(self, name)\u001b[0m\n\u001b[1;32m   2670\u001b[0m             \u001b[0;32mif\u001b[0m \u001b[0mname\u001b[0m \u001b[0;32min\u001b[0m \u001b[0mself\u001b[0m\u001b[0;34m.\u001b[0m\u001b[0m_info_axis\u001b[0m\u001b[0;34m:\u001b[0m\u001b[0;34m\u001b[0m\u001b[0m\n\u001b[1;32m   2671\u001b[0m                 \u001b[0;32mreturn\u001b[0m \u001b[0mself\u001b[0m\u001b[0;34m[\u001b[0m\u001b[0mname\u001b[0m\u001b[0;34m]\u001b[0m\u001b[0;34m\u001b[0m\u001b[0m\n\u001b[0;32m-> 2672\u001b[0;31m             \u001b[0;32mreturn\u001b[0m \u001b[0mobject\u001b[0m\u001b[0;34m.\u001b[0m\u001b[0m__getattribute__\u001b[0m\u001b[0;34m(\u001b[0m\u001b[0mself\u001b[0m\u001b[0;34m,\u001b[0m \u001b[0mname\u001b[0m\u001b[0;34m)\u001b[0m\u001b[0;34m\u001b[0m\u001b[0m\n\u001b[0m\u001b[1;32m   2673\u001b[0m \u001b[0;34m\u001b[0m\u001b[0m\n\u001b[1;32m   2674\u001b[0m     \u001b[0;32mdef\u001b[0m \u001b[0m__setattr__\u001b[0m\u001b[0;34m(\u001b[0m\u001b[0mself\u001b[0m\u001b[0;34m,\u001b[0m \u001b[0mname\u001b[0m\u001b[0;34m,\u001b[0m \u001b[0mvalue\u001b[0m\u001b[0;34m)\u001b[0m\u001b[0;34m:\u001b[0m\u001b[0;34m\u001b[0m\u001b[0m\n",
      "\u001b[0;31mAttributeError\u001b[0m: 'DataFrame' object has no attribute 'tolist'"
     ]
    }
   ],
   "source": [
    "#Asking for the column name as a string rather than within\n",
    "#a list returns a numpy array instead of a one-column dataframe\n",
    "#This allows us to easily turn the values into a list\n",
    "listofcols = ['cond1exp','pvalue']\n",
    "subsetdf = df.loc[:, listofcols] #notice cond1exp is a string, not contained within a list\n",
    "print(subsetdf,  '\\n\\n\\n\\n')\n",
    "subsetdf = subsetdf.tolist() #turn into list\n",
    "print(subsetdf)"
   ]
  },
  {
   "cell_type": "code",
   "execution_count": 54,
   "metadata": {
    "collapsed": false
   },
   "outputs": [
    {
     "name": "stdout",
     "output_type": "stream",
     "text": [
      "    Gene  cond1exp  cond2exp  log2FC  pvalue\n",
      "3  GeneD        20      20.0     0.0     1.0\n"
     ]
    }
   ],
   "source": [
    "#Select only the 3rd row\n",
    "subsetdf = df.loc[[3], :]\n",
    "print(subsetdf.head())"
   ]
  },
  {
   "cell_type": "code",
   "execution_count": 55,
   "metadata": {
    "collapsed": false
   },
   "outputs": [
    {
     "name": "stdout",
     "output_type": "stream",
     "text": [
      "   cond1exp  cond2exp  log2FC    pvalue\n",
      "0       100     200.0    1.00  0.000060\n",
      "1        50      12.5   -2.00  0.000002\n",
      "2        40      45.0    0.17  0.550000\n",
      "3        20      20.0    0.00  1.000000\n",
      "4         1       4.0    2.00  0.150000 \n",
      "\n",
      "\n",
      "\n",
      "\n",
      "   cond1exp  cond2exp  log2FC    pvalue\n",
      "0       100     200.0    1.00  0.000060\n",
      "1        50      12.5   -2.00  0.000002\n",
      "2        40      45.0    0.17  0.550000\n",
      "3        20      20.0    0.00  1.000000\n",
      "4         1       4.0    2.00  0.150000\n"
     ]
    }
   ],
   "source": [
    "#Select the second through fifth columns\n",
    "subsetdf = df.loc[:, ['cond1exp', 'cond2exp', 'log2FC', 'pvalue']]\n",
    "print(subsetdf.head(), '\\n\\n\\n\\n')\n",
    "\n",
    "#This is equivalent to using a range and slicing\n",
    "#When slicing, the ids do not go in a list\n",
    "subsetdf = df.loc[:, 'cond1exp':'pvalue']\n",
    "print(subsetdf.head())"
   ]
  },
  {
   "cell_type": "markdown",
   "metadata": {},
   "source": [
    "## Assignments\n",
    "\n",
    "    1. Random number generators are useful in creating dummy data to test robustness of your analysis. Generate values for corresponding to a cosine function in the interval [0,4*pi] and then add noise at 5% and 10% of the value of the cosine function. The output should be two ndarrays.\n",
    "    \n",
    "    Put another way, for each value in your interval, pick a random value that is no more than 5% or 10% away from the real value."
   ]
  },
  {
   "cell_type": "code",
   "execution_count": 56,
   "metadata": {
    "collapsed": false
   },
   "outputs": [
    {
     "data": {
      "text/plain": [
       "26"
      ]
     },
     "execution_count": 56,
     "metadata": {},
     "output_type": "execute_result"
    }
   ],
   "source": [
    "#Solution code here\n",
    "w=1\n",
    "x=2 \n",
    "y=3\n",
    "z=10\n",
    "\n",
    "3*w + 4*x - 5*y + 3*z\n"
   ]
  },
  {
   "cell_type": "markdown",
   "metadata": {},
   "source": [
    "    2. Linear equations can be solved using matrices. Write code to solve for 3 unknowns in the following equations using ndarrays.\n",
    "`\n",
    " w  + 2x + 4y -  z =  7\n",
    "2w  - 2x -  y +  z =  5\n",
    " w  +  x - 3y + 2z = 14\n",
    "3w  + 4x - 5y + 3z = 26\n",
    "`<br><br>\n",
    "The solution is w=1, x=2, y=3, z=10.<br>\n",
    "Here is a link where the math is explained: https://www.mathsisfun.com/algebra/systems-linear-equations-matrices.html"
   ]
  },
  {
   "cell_type": "code",
   "execution_count": null,
   "metadata": {
    "collapsed": true
   },
   "outputs": [],
   "source": [
    "#Solution code here"
   ]
  },
  {
   "cell_type": "markdown",
   "metadata": {},
   "source": [
    "   `3. The value of pi can be calculated by comparing the area of circle inscribed in a square to the area of the square. We can do this numerically by generating random numbers. Consider the following diagram:`<br>\n",
    "    <img src=\"IMG_20190208_071332424.jpg\">\n",
    "<br>The area of the circle divided by the area of the square (m) = pi.(r\\*\\*2)/4.r\\*\\*2<br>\n",
    "                                                              m  = pi/4<br>\n",
    "                                                            4\\*m = pi<br>\n",
    "We can choose random points that fall within the square to approximate the area of the square: random values of x between 0 and 2, and random values of y between 0 and 2.<br>\n",
    "We can then ask if that random point falls within the circle to approximate area of circle: (x-1)\\*\\*2 + (y-1)\\*\\*2 <= 1<br>\n",
    "\n",
    "So here is the psuedocode:\n",
    "1. Find 1000 random values for x and y between 0 and 2\n",
    "2. Count if that (x,y) lies within the circle (let us call this \"area_of_c\")\n",
    "3. Find pi: 4\\*area_of_c/1000\n",
    "\n",
    "Repeat the same for 10,000 random numbers and 100,000 random numbers.\n"
   ]
  },
  {
   "cell_type": "code",
   "execution_count": null,
   "metadata": {
    "collapsed": true
   },
   "outputs": [],
   "source": [
    "#code here"
   ]
  }
 ],
 "metadata": {
  "anaconda-cloud": {},
  "kernelspec": {
   "display_name": "Python [conda root]",
   "language": "python",
   "name": "conda-root-py"
  },
  "language_info": {
   "codemirror_mode": {
    "name": "ipython",
    "version": 3
   },
   "file_extension": ".py",
   "mimetype": "text/x-python",
   "name": "python",
   "nbconvert_exporter": "python",
   "pygments_lexer": "ipython3",
   "version": "3.5.2"
  }
 },
 "nbformat": 4,
 "nbformat_minor": 1
}
