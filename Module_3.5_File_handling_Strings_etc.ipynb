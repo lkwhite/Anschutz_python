{
 "cells": [
  {
   "cell_type": "markdown",
   "metadata": {},
   "source": [
    "# Lesson 3.5\n",
    "\n",
    "## Topics:\n",
    " - File Handling\n",
    " - Strings\n",
    " - Packages\n",
    " - Generators\n",
    " - Basic plotting\n",
    " \n",
    " \n",
    "### A real life problem\n",
    "\n",
    "Sequencing reads from Illumina platform are stored as fastq files. Each sequencing \"read\" gets four lines. Here is an example:\n",
    "\n",
    "`@SRR036139.1 11_26_8:5:1:749:1421 length=36\n",
    "GCTGGCTGCGTCTGTGGTGGGTTTCATGTTAAGGTC\n",
    "+SRR036139.1 11_26_8:5:1:749:1421 length=36\n",
    "IIIIIIIIIIIIIIIIIIIIIIIIIIIIIIIIIIII`\n",
    "\n",
    "Description from FASTQ wiki page:\n",
    " - Line 1 begins with a '@' character and is followed by a sequence identifier and an optional description (like a FASTA title line).\n",
    " - Line 2 is the raw sequence letters.\n",
    " - Line 3 begins with a '+' character and is optionally followed by the same sequence identifier (and any description) again.\n",
    " - Line 4 encodes the quality values for the sequence in Line 2, and must contain the same number of symbols as letters in the sequence.\n",
    " \n",
    "We want to determine the GC content of the reads in any FASTQ file. GC content could tell you about any bias in the library or if you are sequencing a new species for example, it tells you the properties of the species' genome. So, if you have a fastq file, how would you determine the GC content of the reads?\n",
    "\n",
    "- Somehow get the sequences from the file into a data structure you learned\n",
    "- Examine the sequence to get GC content\n",
    "- Present the data"
   ]
  },
  {
   "cell_type": "code",
   "execution_count": null,
   "metadata": {
    "collapsed": false
   },
   "outputs": [],
   "source": [
    "# How to get the sequences from the file into your code?\n",
    "# First, let us open a dummy file\n",
    "a_file = open('a_simple_file.txt', 'r' )\n",
    "a_file.close()"
   ]
  },
  {
   "cell_type": "markdown",
   "metadata": {},
   "source": [
    "### open() command\n",
    " - Two inputs - filename, mode\n",
    " - Mode can be \n",
    "     - 'r' for read\n",
    "     - 'w' for write (overwrites existing file)\n",
    "     - 'a' for append (adds to existing file)\n",
    " \"a_file\" is an object in which the whole file is stored"
   ]
  },
  {
   "cell_type": "code",
   "execution_count": null,
   "metadata": {
    "collapsed": false
   },
   "outputs": [],
   "source": [
    "type(a_file)"
   ]
  },
  {
   "cell_type": "code",
   "execution_count": null,
   "metadata": {
    "collapsed": false
   },
   "outputs": [],
   "source": [
    "#print every line\n",
    "a_file = open('a_simple_file.txt', 'r' )\n",
    "for line in a_file:\n",
    "    print(line)\n",
    "a_file.close()"
   ]
  },
  {
   "cell_type": "code",
   "execution_count": null,
   "metadata": {
    "collapsed": false
   },
   "outputs": [],
   "source": [
    "#What is the variable \"line\"?\n",
    "a_file = open('a_simple_file.txt', 'r' )\n",
    "for line in a_file:\n",
    "    print(type(line))\n",
    "a_file.close()"
   ]
  },
  {
   "cell_type": "code",
   "execution_count": null,
   "metadata": {
    "collapsed": false
   },
   "outputs": [],
   "source": [
    "#How do we track line numbers?\n",
    "line_no = 0\n",
    "a_file = open('a_simple_file.txt', 'r' )\n",
    "for line in a_file:\n",
    "    line_no += 1\n",
    "    print(line_no,line)\n",
    "a_file.close()"
   ]
  },
  {
   "cell_type": "code",
   "execution_count": null,
   "metadata": {
    "collapsed": false
   },
   "outputs": [],
   "source": [
    "#Split into words, count the words\n",
    "a_file = open('a_simple_file.txt', 'r' )\n",
    "for line in a_file:\n",
    "    lineL = line.split()\n",
    "    print(lineL, \"\\nno. of words in this line: \", len(lineL))\n",
    "a_file.close()"
   ]
  },
  {
   "cell_type": "markdown",
   "metadata": {},
   "source": [
    "To get GC content of the sequences in a fastq file:\n",
    " - Find \n",
    " \n",
    "When you write new code, don't apply it to actual data in the beginning - the data may be complicated enough for you to not be able to judge if your code is running properly. Instead, start with a toy model - something that will give you a trivial result. For example, here is a toy fastq file that has only two sequences with GC content of 100% and 50%:\n",
    "`@TEST1\n",
    "GCGCGCGCGCGC\n",
    "+TEST1\n",
    "IIIIIIIIII\n",
    "@TEST2\n",
    "ATGCATGCATGC\n",
    "+TEST2\n",
    "IIIIIIIIIIII`"
   ]
  },
  {
   "cell_type": "code",
   "execution_count": null,
   "metadata": {
    "collapsed": false
   },
   "outputs": [],
   "source": [
    "seqs={} # A dictionary to store sequences if needed later\n",
    "gc_content={} # A dictionary to store GC content if needed later\n",
    "line_no = 0 # Variable to count lines\n",
    "fastq_file = open('toy.fastq', 'r' ) #Open the fastq file\n",
    "for line in fastq_file: # Iterate through the fastq file\n",
    "    line_no+=1 #counting line numbers\n",
    "    if (line_no-2)%4 == 0: # Does the line number belong to the series 2, 6, 10, 14, etc. ?\n",
    "        key = int((line_no-2)/4) # Convert the line_no to a sequence ID\n",
    "        seqs[key] = line #Populate seqs dictionary\n",
    "        letters = list(line) #Get each letter of the sequence\n",
    "        gc=0 # Initialize gc for THIS sequence\n",
    "        for i in letters: # Iterate through the letters of the sequence\n",
    "            if(i == \"G\" or i == \"C\"): #Check if it is G or C\n",
    "                gc+=1 \n",
    "        gc=round(gc*100/len(letters),2) #make it percentage, make it look pretty with round()\n",
    "        gc_content[key] = gc\n",
    "        print(key+1,line,gc) #print the results"
   ]
  },
  {
   "cell_type": "code",
   "execution_count": null,
   "metadata": {
    "collapsed": true
   },
   "outputs": [],
   "source": [
    "#line=line.rstrip()"
   ]
  },
  {
   "cell_type": "markdown",
   "metadata": {},
   "source": [
    "Let us try the real data now. (First 250 sequences from the SRA file: SRR036139"
   ]
  },
  {
   "cell_type": "code",
   "execution_count": null,
   "metadata": {
    "collapsed": false
   },
   "outputs": [],
   "source": [
    "#Let us write sequence details in a file called \"seq_details.txt\"\n",
    "fh = open(\"seq_details.txt\",\"w\")\n",
    "seqs={} # A dictionary to store sequences if needed later\n",
    "gc_content={} # A dictionary to store GC content if needed later\n",
    "line_no = 0 # Variable to count lines\n",
    "fastq_file = open('example.fastq', 'r' ) #Open the fastq file\n",
    "for line in fastq_file: # Iterate through the fastq file\n",
    "    line=line.rstrip() #get that pesky newline out\n",
    "    line_no+=1 #counting line numbers\n",
    "    if (line_no-2)%4 == 0: # Does the line number belong to the series 2, 6, 10, 14, etc. ?\n",
    "        key = int((line_no-2)/4) # Convert the line_no to a sequence ID\n",
    "        seqs[key] = line #Populate seqs dictionary\n",
    "        letters = list(line) #Get each letter of the sequence\n",
    "        gc=0 # Initialize gc for THIS sequence\n",
    "        for i in letters: # Iterate through the letters of the sequence\n",
    "            if(i == \"G\" or i == \"C\"): #Check if it is G or C\n",
    "                gc+=1 \n",
    "        gc=round(gc*100/len(letters),2) #make it percentage, make it look pretty with round()\n",
    "        gc_content[key] = gc\n",
    "        #print(key+1,line,gc) #print the results\n",
    "        write_str = str(key+1) + \" \" + line + \" GC Content: \" + str(gc) + \"\\n\"\n",
    "        fh.write(write_str)\n",
    "fh.close()"
   ]
  },
  {
   "cell_type": "markdown",
   "metadata": {},
   "source": [
    "This was not really useful because there are 250 numbers and we don't have a sense of what the data is telling us. A histogram may be more useful. There is a direct histogram function we will discuss later, but here will do it from scratch."
   ]
  },
  {
   "cell_type": "code",
   "execution_count": null,
   "metadata": {
    "collapsed": false
   },
   "outputs": [],
   "source": [
    "#let us assume bin size of 5 percent\n",
    "#let us write the histogram into a file called \"GC_hist.txt\"\n",
    "fh = open(\"GC_hist.txt\",\"w\")\n",
    "bin_size = 5\n",
    "hist = {} #declare the histogram\n",
    "for i in gc_content:\n",
    "    bin = int(gc_content[i]/bin_size + 0.5)*bin_size #which bin does this number belong to? In this case, the bin of\n",
    "                                                     # 5 goes from >=4.5 to <5.5\n",
    "    if bin in hist:\n",
    "        hist[bin] += 1\n",
    "    else:\n",
    "        hist[bin] = 1\n",
    "for i in sorted(hist):\n",
    "    hist[i]=hist[i]*100/len(gc_content)\n",
    "    write_str =str(i) + \" \" + str(hist[i]) + \"\\n\"\n",
    "    fh.write(write_str)\n",
    "fh.close()"
   ]
  },
  {
   "cell_type": "markdown",
   "metadata": {},
   "source": [
    "Would be nice if we could see a plot. I don't know how to make a simple plot in Jupyter, so I just googled and found this link: https://matplotlib.org/gallery/lines_bars_and_markers/simple_plot.html"
   ]
  },
  {
   "cell_type": "code",
   "execution_count": null,
   "metadata": {
    "collapsed": false
   },
   "outputs": [],
   "source": [
    "import matplotlib\n",
    "import matplotlib.pyplot as plt\n",
    "import numpy as np\n",
    "\n",
    "yt = []\n",
    "\n",
    "x = np.asarray(sorted(hist))\n",
    "for i in sorted(hist):\n",
    "    yt.append(hist[i])\n",
    "y = np.asarray(yt)\n",
    "\n",
    "fig, ax = plt.subplots()\n",
    "ax.plot(x, y)\n",
    "\n",
    "ax.set(xlabel='GC%', ylabel='% of sequences')\n",
    "\n",
    "plt.show()"
   ]
  },
  {
   "cell_type": "markdown",
   "metadata": {},
   "source": [
    "### Another real life example:\n",
    "\n",
    "#### Let us assume that each paired-end read we obtain from a sequencing experiment is in a bed file. We want to convert the reads into a genome browser track.\n",
    "\n",
    "A bed file has the following format (https://genome.ucsc.edu/FAQ/FAQformat.html#format1):<br>\n",
    "\n",
    "`chromosome    (start-1)    end    blah    blah    Strand`\n",
    "\n",
    "Let us break it down into columns:\n",
    " - First Column: Chromosome\n",
    " - Second Column: (Start position - 1)\n",
    " - Third Column: End position\n",
    " - Fourth Column: Name\n",
    " - Fifth Column: Score\n",
    " - Sixth Column: Strand\n",
    " \n",
    "In this example, we will ignore strand. For making a browser track, here is our strategy:\n",
    "\n",
    "`123456789`<br>\n",
    "`----_____`<br>\n",
    "`___----__`<br>\n",
    "`_____----`<br>\n",
    "`______---`<br>\n",
    "`______---`<br>\n",
    "`111212433`<br>\n"
   ]
  },
  {
   "cell_type": "code",
   "execution_count": null,
   "metadata": {
    "collapsed": true
   },
   "outputs": [],
   "source": []
  }
 ],
 "metadata": {
  "anaconda-cloud": {},
  "kernelspec": {
   "display_name": "Python [conda root]",
   "language": "python",
   "name": "conda-root-py"
  },
  "language_info": {
   "codemirror_mode": {
    "name": "ipython",
    "version": 3
   },
   "file_extension": ".py",
   "mimetype": "text/x-python",
   "name": "python",
   "nbconvert_exporter": "python",
   "pygments_lexer": "ipython3",
   "version": "3.5.2"
  }
 },
 "nbformat": 4,
 "nbformat_minor": 1
}
