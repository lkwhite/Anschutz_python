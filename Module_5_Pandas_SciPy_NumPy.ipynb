{
 "cells": [
  {
   "cell_type": "markdown",
   "metadata": {},
   "source": [
    "# Lesson 5\n",
    "\n",
    "## Topics:\n",
    " - Pandas\n",
    " - Scipy (Sigh pie)\n",
    " - Numpy\n",
    " \n",
    "### If you are nostalgic for R...\n",
    "\n",
    "You don't have to go out of jupyter!\n",
    "\n",
    " - pandas - R-like dataframes in python"
   ]
  },
  {
   "cell_type": "code",
   "execution_count": 3,
   "metadata": {
    "collapsed": true
   },
   "outputs": [],
   "source": [
    "import pandas as pd"
   ]
  },
  {
   "cell_type": "markdown",
   "metadata": {},
   "source": [
    "# Pandas II: Manipulating data frames\n",
    "\n",
    "Last time we learned about the ability of Python to store and manipulate tabular data with the Pandas package.\n",
    "\n",
    "Tabular data is quite common in genomic analyses.  You can imagine wanting to create and manipulate a table like the following:\n",
    "\n",
    "| Gene | expression in condition 1 | expression in condition 2 | log2 fold change | pvalue |\n",
    "|------|---------------------------|---------------------------|------------------|--------|\n",
    "|GeneA |       100                 | 200                       |        1         |   6e-5 |\n",
    "|GeneB |    50                     | 12.5                      |        -2        |  2e-6  |\n",
    "|GeneC |       40                  |   45                      |   0.17           | 0.55   |\n",
    "\n",
    "\n",
    "Ending up with a table like this often involves **merging** smaller tables together, **selecting** different columns of data from a data frame, **filtering** for rows that match specific conditions, manipulating the **shape** of the table between long and wide formats, and finally, plotting outputs.\n",
    "\n",
    "In this lesson, we will learn how to perform each of these tasks.  "
   ]
  },
  {
   "cell_type": "markdown",
   "metadata": {},
   "source": [
    "## Selecting columns and rows\n",
    "\n",
    "For most of this session, we are going to be working with variations of the following data frame:\n",
    "\n",
    "This dataframe will be referred to as 'df' and be assigned to the variable df.  Very original, I know.\n",
    "\n",
    "| Gene | expression in condition 1 | expression in condition 2 | log2 fold change | pvalue |\n",
    "|------|---------------------------|---------------------------|------------------|--------|\n",
    "|GeneA |       100                 | 200                       |        1         |   6e-5 |\n",
    "|GeneB |    50                     | 12.5                      |        -2        |  2e-6  |\n",
    "|GeneC |       40                  |   45                      |   0.17           | 0.55   |\n",
    "|GeneD |       20                  |   20                      |   0.00           | 1.00   |\n",
    "|GeneE |        1                  |   4                       |   2.00           | 0.15   |\n",
    "|GeneF |       1000                |   800                     |   -0.32          | 0.001  |\n",
    "\n",
    "Remember that we can either create this dataframe using a dictionary:\n",
    "\n",
    "    import pandas as pd\n",
    "\n",
    "    d = {'Gene': ['GeneA', 'GeneB', 'GeneC', 'GeneD', 'GeneE', 'GeneF'],\n",
    "    'cond1exp' : [100, 50, 40, 20, 1, 1000],\n",
    "    'cond2exp' : [200, 12.5, 45, 20, 4, 800],\n",
    "    'log2FC' : [1, -2, 0.17, 0.00, 2.00, -0.32],\n",
    "    'pvalue' : [6e-5, 2e-6, 0.55, 1.00, 0.15, 0.001]}\n",
    "    \n",
    "    df = pd.DataFrame(data = d)\n",
    "    \n",
    "    \n",
    "Or we that we can load the dataframe from a file using \n",
    "\n",
    "    pd.DataFrame.from_csv\n",
    "    \n",
    "    \n",
    "Let's suppose that we wanted to make a new dataframe that consisted of only some of the columns or rows of df.  In essenece, we want to select a subset of columns and rows from df.  This is done with the **.loc** and **.iloc** methods."
   ]
  },
  {
   "cell_type": "markdown",
   "metadata": {},
   "source": [
    "## Selecting columns and rows with .iloc\n",
    "\n",
    "Selecting columns and rows from a dataframe by their position is easily done with the **.iloc** method.  The syntax is:\n",
    "\n",
    "    subsetdf = df.iloc[firstrowdesired:lastrowdesired, firstcolumndesired:lastcolumndesired]\n",
    "    \n",
    "For example, let's say I wanted only the first two rows of df, but every column. Remember back to when we were slicing lists (see module 2).  We could slice a list by giving the indexes of the first and last items we wanted.\n",
    "\n",
    "    somefruits = fruits[2:4]\n",
    "    \n",
    "The idea is the same here. The index values (i.e. rownames) of the desired rows are given first, followed by the names of the desired columns.  Just as when slicing lists, leaving the value on one side of the colon blank is shorthand for asking for everything from either the beginning or end.\n",
    "\n",
    "    #give me all fruits from the fourth one to the end\n",
    "    somefruits = fruits[3:]\n",
    "    #give me all fruits from the beginning until the fourth one\n",
    "    somefruits = fruits[:4]\n",
    "    \n",
    "Leaving the value blank on *both* sides of the colon gives you everything from *both* ends.  Or, in other words, the entire list (or here, all rows or all columns).\n",
    "\n",
    "> <font color = 'red'>Slightly confusing note 1: </font>  Remember, when selecting from or slicing iterables, python uses a 0-based, half-open indexing system.  This means that if you want the first 3 items, you ask for items[0:3]. You are given everything *up to but not including* the fourth item (i.e. indicies 0, 1, and 2).  iloc follows this convention.\n",
    "\n",
    "> <font color = 'red'>Slightly confusing note 2: </font> Asking for a single index using .iloc instead of a slice will give you a series instead of a dataframe.  This is essentially a list (or a numpy array), but we aren't going to talk much about this.  For selecting things within dataframes, just slice.\n",
    "\n",
    "> <font color = 'red'>Slightly confusing note 3:  </font> Pandas dataframes have things called \"indexes\" which are essentially row names.  These can be set explicitly.  However, if they are not, as in the case of df, they are simply defined as integers, beginning with 0. You can think of the indexes as just another column, but without a column name.  You can see them in the far left any time you visualize a dataframe with df.head() or any other method.\n",
    "\n",
    ".iloc operates on integer-based indexes.  This means you can ask for the third column, but not the column named 'cond2exp'.  (Conversly, with .loc, you can ask for the \n",
    "\n",
    "OK, now that we've got all that down, let's ask for just the first column of df."
   ]
  },
  {
   "cell_type": "code",
   "execution_count": null,
   "metadata": {
    "collapsed": true
   },
   "outputs": [],
   "source": [
    "import pandas as pd\n",
    "\n",
    "#Defining the dataframe\n",
    "d = {'Gene': ['GeneA', 'GeneB', 'GeneC', 'GeneD', 'GeneE', 'GeneF'],\n",
    "    'cond1exp' : [100, 50, 40, 20, 1, 1000],\n",
    "    'cond2exp' : [200, 12.5, 45, 20, 4, 800],\n",
    "    'log2FC' : [1, -2, 0.17, 0.00, 2.00, -0.32],\n",
    "    'pvalue' : [6e-5, 2e-6, 0.55, 1.00, 0.15, 0.001]}\n",
    "    \n",
    "df = pd.DataFrame(data = d)\n",
    "\n",
    "#Take a quick look at it.\n",
    "print(df.head(), '\\n\\n\\n\\n') #print some blank lines so we can tell things apart\n",
    "\n",
    "#Get the first column (and every row) of df\n",
    "subsetdf = df.iloc[:, 0:1] #give me all rows and just the first column\n",
    "\n",
    "print(subsetdf.head())"
   ]
  },
  {
   "cell_type": "markdown",
   "metadata": {},
   "source": [
    "OK, great.  What about just the third row and all the columns?"
   ]
  },
  {
   "cell_type": "code",
   "execution_count": null,
   "metadata": {
    "collapsed": true
   },
   "outputs": [],
   "source": [
    "subsetdf = df.iloc[2:3, :]\n",
    "print(subsetdf.head())"
   ]
  },
  {
   "cell_type": "markdown",
   "metadata": {},
   "source": [
    "## Selecting rows and columns with .loc\n",
    "\n",
    "**.loc** is essentially the same as **.iloc**, except that you can now select by column names or row names.  The same ideas with slicing and ranges apply.  If row names (indexes) have not been explicitly set for a dataframe, they are defined as integers beginning with 0, as discussed above.\n",
    "\n",
    "> <font color = 'red'>Confusing note number 4:</font> although most intervals are half-open, **for .loc, they are closed**.  df.loc[:, 'Gene':'log2FC'] will return all rows and all columns between Gene and log2FC **including log2FC**.\n",
    "\n",
    "The desired rows and/or columns are indicated by putting them in a list."
   ]
  },
  {
   "cell_type": "code",
   "execution_count": null,
   "metadata": {
    "collapsed": true
   },
   "outputs": [],
   "source": [
    "#Select the expression values in condition1\n",
    "\n",
    "subsetdf = df.loc[:, ['cond1exp']]\n",
    "print(subsetdf.head())"
   ]
  },
  {
   "cell_type": "code",
   "execution_count": null,
   "metadata": {
    "collapsed": true
   },
   "outputs": [],
   "source": [
    "#Asking for the column name as a string rather than within a list returns a numpy array instead of a one-column dataframe\n",
    "#This allows us to easily turn the values into a list\n",
    "\n",
    "subsetdf = df.loc[:, 'cond1exp'] #notice cond1exp is a string, not contained within a list\n",
    "print(subsetdf,  '\\n\\n\\n\\n')\n",
    "subsetdf = subsetdf.tolist() #turn into list\n",
    "print(subsetdf)"
   ]
  },
  {
   "cell_type": "code",
   "execution_count": null,
   "metadata": {
    "collapsed": true
   },
   "outputs": [],
   "source": [
    "#Select only the 3rd row\n",
    "subsetdf = df.loc[[3], :]\n",
    "print(subsetdf.head())"
   ]
  },
  {
   "cell_type": "code",
   "execution_count": null,
   "metadata": {
    "collapsed": true
   },
   "outputs": [],
   "source": [
    "#Select the second through fifth columns\n",
    "subsetdf = df.loc[:, ['cond1exp', 'cond2exp', 'log2FC', 'pvalue']]\n",
    "print(subsetdf.head(), '\\n\\n\\n\\n')\n",
    "\n",
    "#This is equivalent to using a range and slicing\n",
    "#When slicing, the ids do not go in a list\n",
    "subsetdf = df.loc[:, 'cond1exp':'pvalue']\n",
    "print(subsetdf.head())"
   ]
  }
 ],
 "metadata": {
  "kernelspec": {
   "display_name": "Python [conda root]",
   "language": "python",
   "name": "conda-root-py"
  },
  "language_info": {
   "codemirror_mode": {
    "name": "ipython",
    "version": 3
   },
   "file_extension": ".py",
   "mimetype": "text/x-python",
   "name": "python",
   "nbconvert_exporter": "python",
   "pygments_lexer": "ipython3",
   "version": "3.5.2"
  }
 },
 "nbformat": 4,
 "nbformat_minor": 1
}
